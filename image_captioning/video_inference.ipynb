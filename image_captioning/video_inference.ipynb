{
  "cells": [
    {
      "cell_type": "code",
      "execution_count": 2,
      "id": "130e7aaf",
      "metadata": {
        "id": "130e7aaf",
        "outputId": "e7112521-3630-4b5b-b5af-4db0037621e0",
        "colab": {
          "base_uri": "https://localhost:8080/"
        }
      },
      "outputs": [
        {
          "output_type": "stream",
          "name": "stdout",
          "text": [
            "Looking in indexes: https://pypi.org/simple, https://us-python.pkg.dev/colab-wheels/public/simple/\n",
            "Collecting git+https://github.com/facebookresearch/pytorchvideo.git\n",
            "  Cloning https://github.com/facebookresearch/pytorchvideo.git to /tmp/pip-req-build-s1xj8y9f\n",
            "  Running command git clone -q https://github.com/facebookresearch/pytorchvideo.git /tmp/pip-req-build-s1xj8y9f\n",
            "Collecting fvcore\n",
            "  Downloading fvcore-0.1.5.post20220512.tar.gz (50 kB)\n",
            "\u001b[K     |████████████████████████████████| 50 kB 2.9 MB/s \n",
            "\u001b[?25hCollecting av\n",
            "  Downloading av-9.2.0-cp37-cp37m-manylinux_2_17_x86_64.manylinux2014_x86_64.whl (28.2 MB)\n",
            "\u001b[K     |████████████████████████████████| 28.2 MB 80.2 MB/s \n",
            "\u001b[?25hCollecting parameterized\n",
            "  Downloading parameterized-0.8.1-py2.py3-none-any.whl (26 kB)\n",
            "Collecting iopath\n",
            "  Downloading iopath-0.1.10.tar.gz (42 kB)\n",
            "\u001b[K     |████████████████████████████████| 42 kB 985 kB/s \n",
            "\u001b[?25hRequirement already satisfied: networkx in /usr/local/lib/python3.7/dist-packages (from pytorchvideo==0.1.5) (2.6.3)\n",
            "Requirement already satisfied: numpy in /usr/local/lib/python3.7/dist-packages (from fvcore->pytorchvideo==0.1.5) (1.21.6)\n",
            "Collecting yacs>=0.1.6\n",
            "  Downloading yacs-0.1.8-py3-none-any.whl (14 kB)\n",
            "Collecting pyyaml>=5.1\n",
            "  Downloading PyYAML-6.0-cp37-cp37m-manylinux_2_5_x86_64.manylinux1_x86_64.manylinux_2_12_x86_64.manylinux2010_x86_64.whl (596 kB)\n",
            "\u001b[K     |████████████████████████████████| 596 kB 45.3 MB/s \n",
            "\u001b[?25hRequirement already satisfied: tqdm in /usr/local/lib/python3.7/dist-packages (from fvcore->pytorchvideo==0.1.5) (4.64.0)\n",
            "Requirement already satisfied: termcolor>=1.1 in /usr/local/lib/python3.7/dist-packages (from fvcore->pytorchvideo==0.1.5) (1.1.0)\n",
            "Requirement already satisfied: Pillow in /usr/local/lib/python3.7/dist-packages (from fvcore->pytorchvideo==0.1.5) (7.1.2)\n",
            "Requirement already satisfied: tabulate in /usr/local/lib/python3.7/dist-packages (from fvcore->pytorchvideo==0.1.5) (0.8.10)\n",
            "Requirement already satisfied: typing_extensions in /usr/local/lib/python3.7/dist-packages (from iopath->pytorchvideo==0.1.5) (4.1.1)\n",
            "Collecting portalocker\n",
            "  Downloading portalocker-2.5.1-py2.py3-none-any.whl (15 kB)\n",
            "Building wheels for collected packages: pytorchvideo, fvcore, iopath\n",
            "  Building wheel for pytorchvideo (setup.py) ... \u001b[?25l\u001b[?25hdone\n",
            "  Created wheel for pytorchvideo: filename=pytorchvideo-0.1.5-py3-none-any.whl size=210715 sha256=f408386b70e5d8c6c4808427c33c0379f574198d7b99eddb82707d871faafa61\n",
            "  Stored in directory: /tmp/pip-ephem-wheel-cache-fb706g_u/wheels/87/af/3d/0f80973f39ae2239c1ee9496b333ef4e90bf2d80d486b50eca\n",
            "  Building wheel for fvcore (setup.py) ... \u001b[?25l\u001b[?25hdone\n",
            "  Created wheel for fvcore: filename=fvcore-0.1.5.post20220512-py3-none-any.whl size=61288 sha256=1982dcd4a4da98e9a4ae451bb3d8fbdcfaea6d28223c3ec8b259556a5a90266b\n",
            "  Stored in directory: /root/.cache/pip/wheels/68/20/f9/a11a0dd63f4c13678b2a5ec488e48078756505c7777b75b29e\n",
            "  Building wheel for iopath (setup.py) ... \u001b[?25l\u001b[?25hdone\n",
            "  Created wheel for iopath: filename=iopath-0.1.10-py3-none-any.whl size=31549 sha256=cf51b0ffe87d99a2910c144c708ff51e86a02c42324516f8d97bf5c830519d79\n",
            "  Stored in directory: /root/.cache/pip/wheels/aa/cc/ed/ca4e88beef656b01c84b9185196513ef2faf74a5a379b043a7\n",
            "Successfully built pytorchvideo fvcore iopath\n",
            "Installing collected packages: pyyaml, portalocker, yacs, iopath, parameterized, fvcore, av, pytorchvideo\n",
            "  Attempting uninstall: pyyaml\n",
            "    Found existing installation: PyYAML 3.13\n",
            "    Uninstalling PyYAML-3.13:\n",
            "      Successfully uninstalled PyYAML-3.13\n",
            "Successfully installed av-9.2.0 fvcore-0.1.5.post20220512 iopath-0.1.10 parameterized-0.8.1 portalocker-2.5.1 pytorchvideo-0.1.5 pyyaml-6.0 yacs-0.1.8\n"
          ]
        }
      ],
      "source": [
        "try:\n",
        "    import torch\n",
        "except ModuleNotFoundError:\n",
        "    !pip install torch torchvision\n",
        "    import os\n",
        "    import sys\n",
        "    import torch\n",
        "\n",
        "try:\n",
        "    import cv2\n",
        "except ModuleNotFoundError:\n",
        "    !pip install opencv-python\n",
        "    \n",
        "if torch.__version__=='1.6.0+cu101' and sys.platform.startswith('linux'):\n",
        "    !pip install pytorchvideo\n",
        "else:\n",
        "    need_pytorchvideo=False\n",
        "    try:\n",
        "        # Running notebook locally\n",
        "        import pytorchvideo\n",
        "    except ModuleNotFoundError:\n",
        "        need_pytorchvideo=True\n",
        "    if need_pytorchvideo:\n",
        "        # Install from GitHub\n",
        "        !pip install \"git+https://github.com/facebookresearch/pytorchvideo.git\""
      ]
    },
    {
      "cell_type": "code",
      "source": [
        "!python -m pip install pyyaml==5.1\n",
        "# Detectron2 has not released pre-built binaries for the latest pytorch (https://github.com/facebookresearch/detectron2/issues/4053)\n",
        "# so we install from source instead. This takes a few minutes.\n",
        "!python -m pip install 'git+https://github.com/facebookresearch/detectron2.git'"
      ],
      "metadata": {
        "id": "mRjL7lqnMptG",
        "outputId": "0b5466fc-8395-4bf3-c4b2-b4dd69545bb4",
        "colab": {
          "base_uri": "https://localhost:8080/"
        }
      },
      "id": "mRjL7lqnMptG",
      "execution_count": 4,
      "outputs": [
        {
          "output_type": "stream",
          "name": "stdout",
          "text": [
            "Looking in indexes: https://pypi.org/simple, https://us-python.pkg.dev/colab-wheels/public/simple/\n",
            "Collecting pyyaml==5.1\n",
            "  Downloading PyYAML-5.1.tar.gz (274 kB)\n",
            "\u001b[K     |████████████████████████████████| 274 kB 4.7 MB/s \n",
            "\u001b[?25hBuilding wheels for collected packages: pyyaml\n",
            "  Building wheel for pyyaml (setup.py) ... \u001b[?25l\u001b[?25hdone\n",
            "  Created wheel for pyyaml: filename=PyYAML-5.1-cp37-cp37m-linux_x86_64.whl size=44092 sha256=eda5a7de3b1e2a5f3de451870c4e3cc13e627829d86784fdc82d5bf429df3d36\n",
            "  Stored in directory: /root/.cache/pip/wheels/77/f5/10/d00a2bd30928b972790053b5de0c703ca87324f3fead0f2fd9\n",
            "Successfully built pyyaml\n",
            "Installing collected packages: pyyaml\n",
            "  Attempting uninstall: pyyaml\n",
            "    Found existing installation: PyYAML 6.0\n",
            "    Uninstalling PyYAML-6.0:\n",
            "      Successfully uninstalled PyYAML-6.0\n",
            "Successfully installed pyyaml-5.1\n",
            "Looking in indexes: https://pypi.org/simple, https://us-python.pkg.dev/colab-wheels/public/simple/\n",
            "Collecting git+https://github.com/facebookresearch/detectron2.git\n",
            "  Cloning https://github.com/facebookresearch/detectron2.git to /tmp/pip-req-build-sqpxdm06\n",
            "  Running command git clone -q https://github.com/facebookresearch/detectron2.git /tmp/pip-req-build-sqpxdm06\n",
            "Requirement already satisfied: Pillow>=7.1 in /usr/local/lib/python3.7/dist-packages (from detectron2==0.6) (7.1.2)\n",
            "Requirement already satisfied: matplotlib in /usr/local/lib/python3.7/dist-packages (from detectron2==0.6) (3.2.2)\n",
            "Requirement already satisfied: pycocotools>=2.0.2 in /usr/local/lib/python3.7/dist-packages (from detectron2==0.6) (2.0.4)\n",
            "Requirement already satisfied: termcolor>=1.1 in /usr/local/lib/python3.7/dist-packages (from detectron2==0.6) (1.1.0)\n",
            "Requirement already satisfied: yacs>=0.1.8 in /usr/local/lib/python3.7/dist-packages (from detectron2==0.6) (0.1.8)\n",
            "Requirement already satisfied: tabulate in /usr/local/lib/python3.7/dist-packages (from detectron2==0.6) (0.8.10)\n",
            "Requirement already satisfied: cloudpickle in /usr/local/lib/python3.7/dist-packages (from detectron2==0.6) (1.3.0)\n",
            "Requirement already satisfied: tqdm>4.29.0 in /usr/local/lib/python3.7/dist-packages (from detectron2==0.6) (4.64.0)\n",
            "Requirement already satisfied: tensorboard in /usr/local/lib/python3.7/dist-packages (from detectron2==0.6) (2.8.0)\n",
            "Requirement already satisfied: fvcore<0.1.6,>=0.1.5 in /usr/local/lib/python3.7/dist-packages (from detectron2==0.6) (0.1.5.post20220512)\n",
            "Collecting iopath<0.1.10,>=0.1.7\n",
            "  Downloading iopath-0.1.9-py3-none-any.whl (27 kB)\n",
            "Requirement already satisfied: future in /usr/local/lib/python3.7/dist-packages (from detectron2==0.6) (0.16.0)\n",
            "Requirement already satisfied: pydot in /usr/local/lib/python3.7/dist-packages (from detectron2==0.6) (1.3.0)\n",
            "Collecting omegaconf>=2.1\n",
            "  Downloading omegaconf-2.2.2-py3-none-any.whl (79 kB)\n",
            "\u001b[K     |████████████████████████████████| 79 kB 3.7 MB/s \n",
            "\u001b[?25hCollecting hydra-core>=1.1\n",
            "  Downloading hydra_core-1.2.0-py3-none-any.whl (151 kB)\n",
            "\u001b[K     |████████████████████████████████| 151 kB 32.1 MB/s \n",
            "\u001b[?25hCollecting black==22.3.0\n",
            "  Downloading black-22.3.0-cp37-cp37m-manylinux_2_17_x86_64.manylinux2014_x86_64.whl (1.4 MB)\n",
            "\u001b[K     |████████████████████████████████| 1.4 MB 45.5 MB/s \n",
            "\u001b[?25hCollecting timm\n",
            "  Downloading timm-0.6.7-py3-none-any.whl (509 kB)\n",
            "\u001b[K     |████████████████████████████████| 509 kB 58.8 MB/s \n",
            "\u001b[?25hCollecting fairscale\n",
            "  Downloading fairscale-0.4.6.tar.gz (248 kB)\n",
            "\u001b[K     |████████████████████████████████| 248 kB 55.8 MB/s \n",
            "\u001b[?25h  Installing build dependencies ... \u001b[?25l\u001b[?25hdone\n",
            "  Getting requirements to build wheel ... \u001b[?25l\u001b[?25hdone\n",
            "  Installing backend dependencies ... \u001b[?25l\u001b[?25hdone\n",
            "    Preparing wheel metadata ... \u001b[?25l\u001b[?25hdone\n",
            "Requirement already satisfied: packaging in /usr/local/lib/python3.7/dist-packages (from detectron2==0.6) (21.3)\n",
            "Requirement already satisfied: typing-extensions>=3.10.0.0 in /usr/local/lib/python3.7/dist-packages (from black==22.3.0->detectron2==0.6) (4.1.1)\n",
            "Collecting platformdirs>=2\n",
            "  Downloading platformdirs-2.5.2-py3-none-any.whl (14 kB)\n",
            "Requirement already satisfied: tomli>=1.1.0 in /usr/local/lib/python3.7/dist-packages (from black==22.3.0->detectron2==0.6) (2.0.1)\n",
            "Collecting pathspec>=0.9.0\n",
            "  Downloading pathspec-0.9.0-py2.py3-none-any.whl (31 kB)\n",
            "Collecting mypy-extensions>=0.4.3\n",
            "  Downloading mypy_extensions-0.4.3-py2.py3-none-any.whl (4.5 kB)\n",
            "Collecting click>=8.0.0\n",
            "  Downloading click-8.1.3-py3-none-any.whl (96 kB)\n",
            "\u001b[K     |████████████████████████████████| 96 kB 6.1 MB/s \n",
            "\u001b[?25hCollecting typed-ast>=1.4.2\n",
            "  Downloading typed_ast-1.5.4-cp37-cp37m-manylinux_2_5_x86_64.manylinux1_x86_64.manylinux_2_12_x86_64.manylinux2010_x86_64.whl (843 kB)\n",
            "\u001b[K     |████████████████████████████████| 843 kB 61.6 MB/s \n",
            "\u001b[?25hRequirement already satisfied: importlib-metadata in /usr/local/lib/python3.7/dist-packages (from click>=8.0.0->black==22.3.0->detectron2==0.6) (4.12.0)\n",
            "Requirement already satisfied: pyyaml>=5.1 in /usr/local/lib/python3.7/dist-packages (from fvcore<0.1.6,>=0.1.5->detectron2==0.6) (5.1)\n",
            "Requirement already satisfied: numpy in /usr/local/lib/python3.7/dist-packages (from fvcore<0.1.6,>=0.1.5->detectron2==0.6) (1.21.6)\n",
            "Requirement already satisfied: importlib-resources in /usr/local/lib/python3.7/dist-packages (from hydra-core>=1.1->detectron2==0.6) (5.9.0)\n",
            "Collecting antlr4-python3-runtime==4.9.*\n",
            "  Downloading antlr4-python3-runtime-4.9.3.tar.gz (117 kB)\n",
            "\u001b[K     |████████████████████████████████| 117 kB 55.9 MB/s \n",
            "\u001b[?25hRequirement already satisfied: portalocker in /usr/local/lib/python3.7/dist-packages (from iopath<0.1.10,>=0.1.7->detectron2==0.6) (2.5.1)\n",
            "Requirement already satisfied: cycler>=0.10 in /usr/local/lib/python3.7/dist-packages (from matplotlib->detectron2==0.6) (0.11.0)\n",
            "Requirement already satisfied: pyparsing!=2.0.4,!=2.1.2,!=2.1.6,>=2.0.1 in /usr/local/lib/python3.7/dist-packages (from matplotlib->detectron2==0.6) (3.0.9)\n",
            "Requirement already satisfied: python-dateutil>=2.1 in /usr/local/lib/python3.7/dist-packages (from matplotlib->detectron2==0.6) (2.8.2)\n",
            "Requirement already satisfied: kiwisolver>=1.0.1 in /usr/local/lib/python3.7/dist-packages (from matplotlib->detectron2==0.6) (1.4.4)\n",
            "Requirement already satisfied: six>=1.5 in /usr/local/lib/python3.7/dist-packages (from python-dateutil>=2.1->matplotlib->detectron2==0.6) (1.15.0)\n",
            "Requirement already satisfied: torch>=1.8.0 in /usr/local/lib/python3.7/dist-packages (from fairscale->detectron2==0.6) (1.12.0+cu113)\n",
            "Requirement already satisfied: zipp>=0.5 in /usr/local/lib/python3.7/dist-packages (from importlib-metadata->click>=8.0.0->black==22.3.0->detectron2==0.6) (3.8.1)\n",
            "Requirement already satisfied: protobuf>=3.6.0 in /usr/local/lib/python3.7/dist-packages (from tensorboard->detectron2==0.6) (3.17.3)\n",
            "Requirement already satisfied: requests<3,>=2.21.0 in /usr/local/lib/python3.7/dist-packages (from tensorboard->detectron2==0.6) (2.23.0)\n",
            "Requirement already satisfied: google-auth<3,>=1.6.3 in /usr/local/lib/python3.7/dist-packages (from tensorboard->detectron2==0.6) (1.35.0)\n",
            "Requirement already satisfied: setuptools>=41.0.0 in /usr/local/lib/python3.7/dist-packages (from tensorboard->detectron2==0.6) (57.4.0)\n",
            "Requirement already satisfied: absl-py>=0.4 in /usr/local/lib/python3.7/dist-packages (from tensorboard->detectron2==0.6) (1.2.0)\n",
            "Requirement already satisfied: grpcio>=1.24.3 in /usr/local/lib/python3.7/dist-packages (from tensorboard->detectron2==0.6) (1.47.0)\n",
            "Requirement already satisfied: tensorboard-plugin-wit>=1.6.0 in /usr/local/lib/python3.7/dist-packages (from tensorboard->detectron2==0.6) (1.8.1)\n",
            "Requirement already satisfied: werkzeug>=0.11.15 in /usr/local/lib/python3.7/dist-packages (from tensorboard->detectron2==0.6) (1.0.1)\n",
            "Requirement already satisfied: markdown>=2.6.8 in /usr/local/lib/python3.7/dist-packages (from tensorboard->detectron2==0.6) (3.4.1)\n",
            "Requirement already satisfied: google-auth-oauthlib<0.5,>=0.4.1 in /usr/local/lib/python3.7/dist-packages (from tensorboard->detectron2==0.6) (0.4.6)\n",
            "Requirement already satisfied: wheel>=0.26 in /usr/local/lib/python3.7/dist-packages (from tensorboard->detectron2==0.6) (0.37.1)\n",
            "Requirement already satisfied: tensorboard-data-server<0.7.0,>=0.6.0 in /usr/local/lib/python3.7/dist-packages (from tensorboard->detectron2==0.6) (0.6.1)\n",
            "Requirement already satisfied: rsa<5,>=3.1.4 in /usr/local/lib/python3.7/dist-packages (from google-auth<3,>=1.6.3->tensorboard->detectron2==0.6) (4.9)\n",
            "Requirement already satisfied: cachetools<5.0,>=2.0.0 in /usr/local/lib/python3.7/dist-packages (from google-auth<3,>=1.6.3->tensorboard->detectron2==0.6) (4.2.4)\n",
            "Requirement already satisfied: pyasn1-modules>=0.2.1 in /usr/local/lib/python3.7/dist-packages (from google-auth<3,>=1.6.3->tensorboard->detectron2==0.6) (0.2.8)\n",
            "Requirement already satisfied: requests-oauthlib>=0.7.0 in /usr/local/lib/python3.7/dist-packages (from google-auth-oauthlib<0.5,>=0.4.1->tensorboard->detectron2==0.6) (1.3.1)\n",
            "Requirement already satisfied: pyasn1<0.5.0,>=0.4.6 in /usr/local/lib/python3.7/dist-packages (from pyasn1-modules>=0.2.1->google-auth<3,>=1.6.3->tensorboard->detectron2==0.6) (0.4.8)\n",
            "Requirement already satisfied: certifi>=2017.4.17 in /usr/local/lib/python3.7/dist-packages (from requests<3,>=2.21.0->tensorboard->detectron2==0.6) (2022.6.15)\n",
            "Requirement already satisfied: idna<3,>=2.5 in /usr/local/lib/python3.7/dist-packages (from requests<3,>=2.21.0->tensorboard->detectron2==0.6) (2.10)\n",
            "Requirement already satisfied: urllib3!=1.25.0,!=1.25.1,<1.26,>=1.21.1 in /usr/local/lib/python3.7/dist-packages (from requests<3,>=2.21.0->tensorboard->detectron2==0.6) (1.24.3)\n",
            "Requirement already satisfied: chardet<4,>=3.0.2 in /usr/local/lib/python3.7/dist-packages (from requests<3,>=2.21.0->tensorboard->detectron2==0.6) (3.0.4)\n",
            "Requirement already satisfied: oauthlib>=3.0.0 in /usr/local/lib/python3.7/dist-packages (from requests-oauthlib>=0.7.0->google-auth-oauthlib<0.5,>=0.4.1->tensorboard->detectron2==0.6) (3.2.0)\n",
            "Requirement already satisfied: torchvision in /usr/local/lib/python3.7/dist-packages (from timm->detectron2==0.6) (0.13.0+cu113)\n",
            "Building wheels for collected packages: detectron2, antlr4-python3-runtime, fairscale\n",
            "  Building wheel for detectron2 (setup.py) ... \u001b[?25l\u001b[?25hdone\n",
            "  Created wheel for detectron2: filename=detectron2-0.6-cp37-cp37m-linux_x86_64.whl size=5259915 sha256=e792de23b87e2c89964c951137b474f1ffaa74bc87040797fbc696de650dd04c\n",
            "  Stored in directory: /tmp/pip-ephem-wheel-cache-3sjot99w/wheels/07/dc/32/0322cb484dbefab8b9366bfedbaff5060ac7d149d69c27ca5d\n",
            "  Building wheel for antlr4-python3-runtime (setup.py) ... \u001b[?25l\u001b[?25hdone\n",
            "  Created wheel for antlr4-python3-runtime: filename=antlr4_python3_runtime-4.9.3-py3-none-any.whl size=144575 sha256=8a86aa2b0b50e6db055c645626bf93bced726bea1e7800cbaf16cbaf5e83fc4d\n",
            "  Stored in directory: /root/.cache/pip/wheels/8b/8d/53/2af8772d9aec614e3fc65e53d4a993ad73c61daa8bbd85a873\n",
            "  Building wheel for fairscale (PEP 517) ... \u001b[?25l\u001b[?25hdone\n",
            "  Created wheel for fairscale: filename=fairscale-0.4.6-py3-none-any.whl size=307252 sha256=84c16079c88fab939603b76b540b1292c60fca7f3e064729e5a431565c5f1616\n",
            "  Stored in directory: /root/.cache/pip/wheels/4e/4f/0b/94c29ea06dfad93260cb0377855f87b7b863312317a7f69fe7\n",
            "Successfully built detectron2 antlr4-python3-runtime fairscale\n",
            "Installing collected packages: antlr4-python3-runtime, typed-ast, platformdirs, pathspec, omegaconf, mypy-extensions, iopath, click, timm, hydra-core, fairscale, black, detectron2\n",
            "  Attempting uninstall: iopath\n",
            "    Found existing installation: iopath 0.1.10\n",
            "    Uninstalling iopath-0.1.10:\n",
            "      Successfully uninstalled iopath-0.1.10\n",
            "  Attempting uninstall: click\n",
            "    Found existing installation: click 7.1.2\n",
            "    Uninstalling click-7.1.2:\n",
            "      Successfully uninstalled click-7.1.2\n",
            "\u001b[31mERROR: pip's dependency resolver does not currently take into account all the packages that are installed. This behaviour is the source of the following dependency conflicts.\n",
            "flask 1.1.4 requires click<8.0,>=5.1, but you have click 8.1.3 which is incompatible.\u001b[0m\n",
            "Successfully installed antlr4-python3-runtime-4.9.3 black-22.3.0 click-8.1.3 detectron2-0.6 fairscale-0.4.6 hydra-core-1.2.0 iopath-0.1.9 mypy-extensions-0.4.3 omegaconf-2.2.2 pathspec-0.9.0 platformdirs-2.5.2 timm-0.6.7 typed-ast-1.5.4\n"
          ]
        }
      ]
    },
    {
      "cell_type": "code",
      "source": [
        "! git clone https://github.com/facebookresearch/pytorchvideo"
      ],
      "metadata": {
        "id": "-88cjgUaMysP",
        "outputId": "397d72c5-5584-4623-86b3-db87a2641757",
        "colab": {
          "base_uri": "https://localhost:8080/"
        }
      },
      "id": "-88cjgUaMysP",
      "execution_count": 7,
      "outputs": [
        {
          "output_type": "stream",
          "name": "stdout",
          "text": [
            "Cloning into 'pytorchvideo'...\n",
            "remote: Enumerating objects: 2382, done.\u001b[K\n",
            "remote: Counting objects: 100% (101/101), done.\u001b[K\n",
            "remote: Compressing objects: 100% (80/80), done.\u001b[K\n",
            "remote: Total 2382 (delta 49), reused 62 (delta 21), pack-reused 2281\u001b[K\n",
            "Receiving objects: 100% (2382/2382), 6.01 MiB | 24.03 MiB/s, done.\n",
            "Resolving deltas: 100% (1321/1321), done.\n"
          ]
        }
      ]
    },
    {
      "cell_type": "code",
      "source": [
        "%cd pytorchvideo"
      ],
      "metadata": {
        "id": "zxspGbIGOH8E",
        "outputId": "febbfb88-aef0-44cf-e1fb-4efb019c9289",
        "colab": {
          "base_uri": "https://localhost:8080/"
        }
      },
      "id": "zxspGbIGOH8E",
      "execution_count": 9,
      "outputs": [
        {
          "output_type": "stream",
          "name": "stdout",
          "text": [
            "/content/pytorchvideo\n"
          ]
        }
      ]
    },
    {
      "cell_type": "code",
      "source": [
        "! ls"
      ],
      "metadata": {
        "id": "h7hEN4A-OLJj",
        "outputId": "62da7eb2-54bd-4f7d-9127-fa46b36a7ab6",
        "colab": {
          "base_uri": "https://localhost:8080/"
        }
      },
      "id": "h7hEN4A-OLJj",
      "execution_count": 10,
      "outputs": [
        {
          "output_type": "stream",
          "name": "stdout",
          "text": [
            "CONTRIBUTING.md  INSTALL.md   pytorchvideo\t    setup.py\n",
            "dev\t\t LICENSE      pytorchvideo_trainer  tests\n",
            "docs\t\t MANIFEST.in  README.md\t\t    tutorials\n",
            "hubconf.py\t projects     setup.cfg\t\t    website\n"
          ]
        }
      ]
    },
    {
      "cell_type": "code",
      "execution_count": 11,
      "id": "74d4dee2",
      "metadata": {
        "id": "74d4dee2"
      },
      "outputs": [],
      "source": [
        "from functools import partial\n",
        "import numpy as np\n",
        "\n",
        "import cv2\n",
        "import torch\n",
        "\n",
        "import detectron2\n",
        "from detectron2.config import get_cfg\n",
        "from detectron2 import model_zoo\n",
        "from detectron2.engine import DefaultPredictor\n",
        "\n",
        "import pytorchvideo\n",
        "from pytorchvideo.transforms.functional import (\n",
        "    uniform_temporal_subsample,\n",
        "    short_side_scale_with_boxes,\n",
        "    clip_boxes_to_image,\n",
        ")\n",
        "from torchvision.transforms._functional_video import normalize\n",
        "from pytorchvideo.data.ava import AvaLabeledVideoFramePaths\n",
        "from pytorchvideo.models.hub import slow_r50_detection # Another option is slowfast_r50_detection\n",
        "\n",
        "from tutorials.video_detection_example.visualization import VideoVisualizer"
      ]
    },
    {
      "cell_type": "code",
      "execution_count": 12,
      "id": "6bb9a374",
      "metadata": {
        "id": "6bb9a374",
        "outputId": "f1ae3e3a-7ecf-4371-d804-6a8cd23a89bc",
        "colab": {
          "base_uri": "https://localhost:8080/",
          "height": 86,
          "referenced_widgets": [
            "887f04cd46ff4d64a89d201082f6df38",
            "cd70be8b527c4779bf07d1984b5551b1",
            "c3593ccc313246639052ff0256029829",
            "e3d63b03a1ae407cbfd7799280a05cc7",
            "c109dfdceaf34764bec875fc628cac08",
            "05a21909689d499ba0a3d8b05d1bf891",
            "0bbe9e1304154ffc8776f6632ff193fd",
            "95a5ce4dee1949a690c6a94ebede9163",
            "9fbf6384f63b48a5b60fc44bd2acc5b3",
            "bda37bb0e6aa4862973d7538ec46a6ff",
            "ca971c16510f47da94b8f977946603bb"
          ]
        }
      },
      "outputs": [
        {
          "output_type": "stream",
          "name": "stderr",
          "text": [
            "Downloading: \"https://dl.fbaipublicfiles.com/pytorchvideo/model_zoo/ava/SLOW_4x16_R50_DETECTION.pyth\" to /root/.cache/torch/hub/checkpoints/SLOW_4x16_R50_DETECTION.pyth\n"
          ]
        },
        {
          "output_type": "display_data",
          "data": {
            "text/plain": [
              "  0%|          | 0.00/243M [00:00<?, ?B/s]"
            ],
            "application/vnd.jupyter.widget-view+json": {
              "version_major": 2,
              "version_minor": 0,
              "model_id": "887f04cd46ff4d64a89d201082f6df38"
            }
          },
          "metadata": {}
        }
      ],
      "source": [
        "device = 'cuda' # or 'cpu'\n",
        "video_model = slow_r50_detection(True) # Another option is slowfast_r50_detection\n",
        "video_model = video_model.eval().to(device)"
      ]
    },
    {
      "cell_type": "code",
      "execution_count": 13,
      "id": "7a5d5f4b",
      "metadata": {
        "id": "7a5d5f4b",
        "outputId": "4bf48e98-1b27-4331-9929-f70e3ce8a163",
        "colab": {
          "base_uri": "https://localhost:8080/"
        }
      },
      "outputs": [
        {
          "output_type": "stream",
          "name": "stderr",
          "text": [
            "model_final_280758.pkl: 167MB [00:05, 32.5MB/s]                           \n"
          ]
        }
      ],
      "source": [
        "cfg = get_cfg()\n",
        "cfg.merge_from_file(model_zoo.get_config_file(\"COCO-Detection/faster_rcnn_R_50_FPN_3x.yaml\"))\n",
        "cfg.MODEL.ROI_HEADS.SCORE_THRESH_TEST = 0.55  # set threshold for this model\n",
        "cfg.MODEL.WEIGHTS = model_zoo.get_checkpoint_url(\"COCO-Detection/faster_rcnn_R_50_FPN_3x.yaml\")\n",
        "predictor = DefaultPredictor(cfg)\n",
        "\n",
        "# This method takes in an image and generates the bounding boxes for people in the image.\n",
        "def get_person_bboxes(inp_img, predictor):\n",
        "    predictions = predictor(inp_img.cpu().detach().numpy())['instances'].to('cpu')\n",
        "    boxes = predictions.pred_boxes if predictions.has(\"pred_boxes\") else None\n",
        "    scores = predictions.scores if predictions.has(\"scores\") else None\n",
        "    classes = np.array(predictions.pred_classes.tolist() if predictions.has(\"pred_classes\") else None)\n",
        "    predicted_boxes = boxes[np.logical_and(classes==0, scores>0.75 )].tensor.cpu() # only person\n",
        "    return predicted_boxes"
      ]
    },
    {
      "cell_type": "code",
      "execution_count": 14,
      "id": "9cb1ec3f",
      "metadata": {
        "id": "9cb1ec3f"
      },
      "outputs": [],
      "source": [
        "def ava_inference_transform(\n",
        "    clip, \n",
        "    boxes,\n",
        "    num_frames = 4, #if using slowfast_r50_detection, change this to 32\n",
        "    crop_size = 256, \n",
        "    data_mean = [0.45, 0.45, 0.45], \n",
        "    data_std = [0.225, 0.225, 0.225],\n",
        "    slow_fast_alpha = None, #if using slowfast_r50_detection, change this to 4\n",
        "):\n",
        "\n",
        "    boxes = np.array(boxes)\n",
        "    ori_boxes = boxes.copy()\n",
        "\n",
        "    # Image [0, 255] -> [0, 1].\n",
        "    clip = uniform_temporal_subsample(clip, num_frames)\n",
        "    clip = clip.float()\n",
        "    clip = clip / 255.0\n",
        "\n",
        "    height, width = clip.shape[2], clip.shape[3]\n",
        "    # The format of boxes is [x1, y1, x2, y2]. The input boxes are in the\n",
        "    # range of [0, width] for x and [0,height] for y\n",
        "    boxes = clip_boxes_to_image(boxes, height, width)\n",
        "\n",
        "    # Resize short side to crop_size. Non-local and STRG uses 256.\n",
        "    clip, boxes = short_side_scale_with_boxes(\n",
        "        clip,\n",
        "        size=crop_size,\n",
        "        boxes=boxes,\n",
        "    )\n",
        "    \n",
        "    # Normalize images by mean and std.\n",
        "    clip = normalize(\n",
        "        clip,\n",
        "        np.array(data_mean, dtype=np.float32),\n",
        "        np.array(data_std, dtype=np.float32),\n",
        "    )\n",
        "    \n",
        "    boxes = clip_boxes_to_image(\n",
        "        boxes, clip.shape[2],  clip.shape[3]\n",
        "    )\n",
        "    \n",
        "    # Incase of slowfast, generate both pathways\n",
        "    if slow_fast_alpha is not None:\n",
        "        fast_pathway = clip\n",
        "        # Perform temporal sampling from the fast pathway.\n",
        "        slow_pathway = torch.index_select(\n",
        "            clip,\n",
        "            1,\n",
        "            torch.linspace(\n",
        "                0, clip.shape[1] - 1, clip.shape[1] // slow_fast_alpha\n",
        "            ).long(),\n",
        "        )\n",
        "        clip = [slow_pathway, fast_pathway]\n",
        "    \n",
        "    return clip, torch.from_numpy(boxes), ori_boxes"
      ]
    },
    {
      "cell_type": "code",
      "execution_count": 15,
      "id": "6132a777",
      "metadata": {
        "id": "6132a777",
        "outputId": "c26feeea-d053-4b57-d79b-f0304cc278fa",
        "colab": {
          "base_uri": "https://localhost:8080/"
        }
      },
      "outputs": [
        {
          "output_type": "stream",
          "name": "stdout",
          "text": [
            "--2022-08-01 16:25:14--  https://dl.fbaipublicfiles.com/pytorchvideo/data/class_names/ava_action_list.pbtxt\n",
            "Resolving dl.fbaipublicfiles.com (dl.fbaipublicfiles.com)... 104.22.75.142, 172.67.9.4, 104.22.74.142, ...\n",
            "Connecting to dl.fbaipublicfiles.com (dl.fbaipublicfiles.com)|104.22.75.142|:443... connected.\n",
            "HTTP request sent, awaiting response... 200 OK\n",
            "Length: 2649 (2.6K) [text/plain]\n",
            "Saving to: ‘ava_action_list.pbtxt’\n",
            "\n",
            "ava_action_list.pbt 100%[===================>]   2.59K  --.-KB/s    in 0s      \n",
            "\n",
            "2022-08-01 16:25:15 (46.8 MB/s) - ‘ava_action_list.pbtxt’ saved [2649/2649]\n",
            "\n"
          ]
        }
      ],
      "source": [
        "!wget https://dl.fbaipublicfiles.com/pytorchvideo/data/class_names/ava_action_list.pbtxt"
      ]
    },
    {
      "cell_type": "code",
      "execution_count": 16,
      "id": "39454172",
      "metadata": {
        "id": "39454172"
      },
      "outputs": [],
      "source": [
        "# Create an id to label name mapping\n",
        "label_map, allowed_class_ids = AvaLabeledVideoFramePaths.read_label_map('ava_action_list.pbtxt')\n",
        "# Create a video visualizer that can plot bounding boxes and visualize actions on bboxes.\n",
        "video_visualizer = VideoVisualizer(81, label_map, top_k=3, mode=\"thres\",thres=0.5)"
      ]
    },
    {
      "cell_type": "code",
      "execution_count": 17,
      "id": "f27c302c",
      "metadata": {
        "id": "f27c302c",
        "outputId": "a849707d-2630-4a94-c54d-e73eb932e29b",
        "colab": {
          "base_uri": "https://localhost:8080/"
        }
      },
      "outputs": [
        {
          "output_type": "stream",
          "name": "stdout",
          "text": [
            "--2022-08-01 16:25:25--  https://dl.fbaipublicfiles.com/pytorchvideo/projects/theatre.webm\n",
            "Resolving dl.fbaipublicfiles.com (dl.fbaipublicfiles.com)... 104.22.75.142, 172.67.9.4, 104.22.74.142, ...\n",
            "Connecting to dl.fbaipublicfiles.com (dl.fbaipublicfiles.com)|104.22.75.142|:443... connected.\n",
            "HTTP request sent, awaiting response... 200 OK\n",
            "Length: 36564580 (35M) [video/webm]\n",
            "Saving to: ‘theatre.webm’\n",
            "\n",
            "theatre.webm        100%[===================>]  34.87M  33.0MB/s    in 1.1s    \n",
            "\n",
            "2022-08-01 16:25:26 (33.0 MB/s) - ‘theatre.webm’ saved [36564580/36564580]\n",
            "\n"
          ]
        }
      ],
      "source": [
        "!wget https://dl.fbaipublicfiles.com/pytorchvideo/projects/theatre.webm"
      ]
    },
    {
      "cell_type": "code",
      "source": [
        "!pip install -q youtube-dl"
      ],
      "metadata": {
        "id": "u-uRFEBUSKTi",
        "outputId": "de07ddf2-d6a4-4ba3-fb68-f20f5a6877b6",
        "colab": {
          "base_uri": "https://localhost:8080/"
        }
      },
      "id": "u-uRFEBUSKTi",
      "execution_count": 21,
      "outputs": [
        {
          "output_type": "stream",
          "name": "stdout",
          "text": [
            "\u001b[?25l\r\u001b[K     |▏                               | 10 kB 26.5 MB/s eta 0:00:01\r\u001b[K     |▍                               | 20 kB 22.6 MB/s eta 0:00:01\r\u001b[K     |▌                               | 30 kB 10.3 MB/s eta 0:00:01\r\u001b[K     |▊                               | 40 kB 4.4 MB/s eta 0:00:01\r\u001b[K     |▉                               | 51 kB 4.3 MB/s eta 0:00:01\r\u001b[K     |█                               | 61 kB 5.0 MB/s eta 0:00:01\r\u001b[K     |█▏                              | 71 kB 5.5 MB/s eta 0:00:01\r\u001b[K     |█▍                              | 81 kB 5.4 MB/s eta 0:00:01\r\u001b[K     |█▌                              | 92 kB 6.0 MB/s eta 0:00:01\r\u001b[K     |█▊                              | 102 kB 5.2 MB/s eta 0:00:01\r\u001b[K     |██                              | 112 kB 5.2 MB/s eta 0:00:01\r\u001b[K     |██                              | 122 kB 5.2 MB/s eta 0:00:01\r\u001b[K     |██▎                             | 133 kB 5.2 MB/s eta 0:00:01\r\u001b[K     |██▍                             | 143 kB 5.2 MB/s eta 0:00:01\r\u001b[K     |██▋                             | 153 kB 5.2 MB/s eta 0:00:01\r\u001b[K     |██▊                             | 163 kB 5.2 MB/s eta 0:00:01\r\u001b[K     |███                             | 174 kB 5.2 MB/s eta 0:00:01\r\u001b[K     |███                             | 184 kB 5.2 MB/s eta 0:00:01\r\u001b[K     |███▎                            | 194 kB 5.2 MB/s eta 0:00:01\r\u001b[K     |███▌                            | 204 kB 5.2 MB/s eta 0:00:01\r\u001b[K     |███▋                            | 215 kB 5.2 MB/s eta 0:00:01\r\u001b[K     |███▉                            | 225 kB 5.2 MB/s eta 0:00:01\r\u001b[K     |████                            | 235 kB 5.2 MB/s eta 0:00:01\r\u001b[K     |████▏                           | 245 kB 5.2 MB/s eta 0:00:01\r\u001b[K     |████▎                           | 256 kB 5.2 MB/s eta 0:00:01\r\u001b[K     |████▌                           | 266 kB 5.2 MB/s eta 0:00:01\r\u001b[K     |████▋                           | 276 kB 5.2 MB/s eta 0:00:01\r\u001b[K     |████▉                           | 286 kB 5.2 MB/s eta 0:00:01\r\u001b[K     |█████                           | 296 kB 5.2 MB/s eta 0:00:01\r\u001b[K     |█████▏                          | 307 kB 5.2 MB/s eta 0:00:01\r\u001b[K     |█████▍                          | 317 kB 5.2 MB/s eta 0:00:01\r\u001b[K     |█████▌                          | 327 kB 5.2 MB/s eta 0:00:01\r\u001b[K     |█████▊                          | 337 kB 5.2 MB/s eta 0:00:01\r\u001b[K     |█████▉                          | 348 kB 5.2 MB/s eta 0:00:01\r\u001b[K     |██████                          | 358 kB 5.2 MB/s eta 0:00:01\r\u001b[K     |██████▏                         | 368 kB 5.2 MB/s eta 0:00:01\r\u001b[K     |██████▍                         | 378 kB 5.2 MB/s eta 0:00:01\r\u001b[K     |██████▌                         | 389 kB 5.2 MB/s eta 0:00:01\r\u001b[K     |██████▊                         | 399 kB 5.2 MB/s eta 0:00:01\r\u001b[K     |███████                         | 409 kB 5.2 MB/s eta 0:00:01\r\u001b[K     |███████                         | 419 kB 5.2 MB/s eta 0:00:01\r\u001b[K     |███████▎                        | 430 kB 5.2 MB/s eta 0:00:01\r\u001b[K     |███████▍                        | 440 kB 5.2 MB/s eta 0:00:01\r\u001b[K     |███████▋                        | 450 kB 5.2 MB/s eta 0:00:01\r\u001b[K     |███████▊                        | 460 kB 5.2 MB/s eta 0:00:01\r\u001b[K     |████████                        | 471 kB 5.2 MB/s eta 0:00:01\r\u001b[K     |████████                        | 481 kB 5.2 MB/s eta 0:00:01\r\u001b[K     |████████▎                       | 491 kB 5.2 MB/s eta 0:00:01\r\u001b[K     |████████▍                       | 501 kB 5.2 MB/s eta 0:00:01\r\u001b[K     |████████▋                       | 512 kB 5.2 MB/s eta 0:00:01\r\u001b[K     |████████▉                       | 522 kB 5.2 MB/s eta 0:00:01\r\u001b[K     |█████████                       | 532 kB 5.2 MB/s eta 0:00:01\r\u001b[K     |█████████▏                      | 542 kB 5.2 MB/s eta 0:00:01\r\u001b[K     |█████████▎                      | 552 kB 5.2 MB/s eta 0:00:01\r\u001b[K     |█████████▌                      | 563 kB 5.2 MB/s eta 0:00:01\r\u001b[K     |█████████▋                      | 573 kB 5.2 MB/s eta 0:00:01\r\u001b[K     |█████████▉                      | 583 kB 5.2 MB/s eta 0:00:01\r\u001b[K     |██████████                      | 593 kB 5.2 MB/s eta 0:00:01\r\u001b[K     |██████████▏                     | 604 kB 5.2 MB/s eta 0:00:01\r\u001b[K     |██████████▍                     | 614 kB 5.2 MB/s eta 0:00:01\r\u001b[K     |██████████▌                     | 624 kB 5.2 MB/s eta 0:00:01\r\u001b[K     |██████████▊                     | 634 kB 5.2 MB/s eta 0:00:01\r\u001b[K     |██████████▉                     | 645 kB 5.2 MB/s eta 0:00:01\r\u001b[K     |███████████                     | 655 kB 5.2 MB/s eta 0:00:01\r\u001b[K     |███████████▏                    | 665 kB 5.2 MB/s eta 0:00:01\r\u001b[K     |███████████▍                    | 675 kB 5.2 MB/s eta 0:00:01\r\u001b[K     |███████████▌                    | 686 kB 5.2 MB/s eta 0:00:01\r\u001b[K     |███████████▊                    | 696 kB 5.2 MB/s eta 0:00:01\r\u001b[K     |███████████▉                    | 706 kB 5.2 MB/s eta 0:00:01\r\u001b[K     |████████████                    | 716 kB 5.2 MB/s eta 0:00:01\r\u001b[K     |████████████▎                   | 727 kB 5.2 MB/s eta 0:00:01\r\u001b[K     |████████████▍                   | 737 kB 5.2 MB/s eta 0:00:01\r\u001b[K     |████████████▋                   | 747 kB 5.2 MB/s eta 0:00:01\r\u001b[K     |████████████▊                   | 757 kB 5.2 MB/s eta 0:00:01\r\u001b[K     |█████████████                   | 768 kB 5.2 MB/s eta 0:00:01\r\u001b[K     |█████████████                   | 778 kB 5.2 MB/s eta 0:00:01\r\u001b[K     |█████████████▎                  | 788 kB 5.2 MB/s eta 0:00:01\r\u001b[K     |█████████████▍                  | 798 kB 5.2 MB/s eta 0:00:01\r\u001b[K     |█████████████▋                  | 808 kB 5.2 MB/s eta 0:00:01\r\u001b[K     |█████████████▉                  | 819 kB 5.2 MB/s eta 0:00:01\r\u001b[K     |██████████████                  | 829 kB 5.2 MB/s eta 0:00:01\r\u001b[K     |██████████████▏                 | 839 kB 5.2 MB/s eta 0:00:01\r\u001b[K     |██████████████▎                 | 849 kB 5.2 MB/s eta 0:00:01\r\u001b[K     |██████████████▌                 | 860 kB 5.2 MB/s eta 0:00:01\r\u001b[K     |██████████████▋                 | 870 kB 5.2 MB/s eta 0:00:01\r\u001b[K     |██████████████▉                 | 880 kB 5.2 MB/s eta 0:00:01\r\u001b[K     |███████████████                 | 890 kB 5.2 MB/s eta 0:00:01\r\u001b[K     |███████████████▏                | 901 kB 5.2 MB/s eta 0:00:01\r\u001b[K     |███████████████▎                | 911 kB 5.2 MB/s eta 0:00:01\r\u001b[K     |███████████████▌                | 921 kB 5.2 MB/s eta 0:00:01\r\u001b[K     |███████████████▊                | 931 kB 5.2 MB/s eta 0:00:01\r\u001b[K     |███████████████▉                | 942 kB 5.2 MB/s eta 0:00:01\r\u001b[K     |████████████████                | 952 kB 5.2 MB/s eta 0:00:01\r\u001b[K     |████████████████▏               | 962 kB 5.2 MB/s eta 0:00:01\r\u001b[K     |████████████████▍               | 972 kB 5.2 MB/s eta 0:00:01\r\u001b[K     |████████████████▌               | 983 kB 5.2 MB/s eta 0:00:01\r\u001b[K     |████████████████▊               | 993 kB 5.2 MB/s eta 0:00:01\r\u001b[K     |████████████████▉               | 1.0 MB 5.2 MB/s eta 0:00:01\r\u001b[K     |█████████████████               | 1.0 MB 5.2 MB/s eta 0:00:01\r\u001b[K     |█████████████████▎              | 1.0 MB 5.2 MB/s eta 0:00:01\r\u001b[K     |█████████████████▍              | 1.0 MB 5.2 MB/s eta 0:00:01\r\u001b[K     |█████████████████▋              | 1.0 MB 5.2 MB/s eta 0:00:01\r\u001b[K     |█████████████████▊              | 1.1 MB 5.2 MB/s eta 0:00:01\r\u001b[K     |██████████████████              | 1.1 MB 5.2 MB/s eta 0:00:01\r\u001b[K     |██████████████████              | 1.1 MB 5.2 MB/s eta 0:00:01\r\u001b[K     |██████████████████▎             | 1.1 MB 5.2 MB/s eta 0:00:01\r\u001b[K     |██████████████████▍             | 1.1 MB 5.2 MB/s eta 0:00:01\r\u001b[K     |██████████████████▋             | 1.1 MB 5.2 MB/s eta 0:00:01\r\u001b[K     |██████████████████▊             | 1.1 MB 5.2 MB/s eta 0:00:01\r\u001b[K     |███████████████████             | 1.1 MB 5.2 MB/s eta 0:00:01\r\u001b[K     |███████████████████▏            | 1.1 MB 5.2 MB/s eta 0:00:01\r\u001b[K     |███████████████████▎            | 1.1 MB 5.2 MB/s eta 0:00:01\r\u001b[K     |███████████████████▌            | 1.2 MB 5.2 MB/s eta 0:00:01\r\u001b[K     |███████████████████▋            | 1.2 MB 5.2 MB/s eta 0:00:01\r\u001b[K     |███████████████████▉            | 1.2 MB 5.2 MB/s eta 0:00:01\r\u001b[K     |████████████████████            | 1.2 MB 5.2 MB/s eta 0:00:01\r\u001b[K     |████████████████████▏           | 1.2 MB 5.2 MB/s eta 0:00:01\r\u001b[K     |████████████████████▎           | 1.2 MB 5.2 MB/s eta 0:00:01\r\u001b[K     |████████████████████▌           | 1.2 MB 5.2 MB/s eta 0:00:01\r\u001b[K     |████████████████████▊           | 1.2 MB 5.2 MB/s eta 0:00:01\r\u001b[K     |████████████████████▉           | 1.2 MB 5.2 MB/s eta 0:00:01\r\u001b[K     |█████████████████████           | 1.2 MB 5.2 MB/s eta 0:00:01\r\u001b[K     |█████████████████████▏          | 1.3 MB 5.2 MB/s eta 0:00:01\r\u001b[K     |█████████████████████▍          | 1.3 MB 5.2 MB/s eta 0:00:01\r\u001b[K     |█████████████████████▌          | 1.3 MB 5.2 MB/s eta 0:00:01\r\u001b[K     |█████████████████████▊          | 1.3 MB 5.2 MB/s eta 0:00:01\r\u001b[K     |█████████████████████▉          | 1.3 MB 5.2 MB/s eta 0:00:01\r\u001b[K     |██████████████████████          | 1.3 MB 5.2 MB/s eta 0:00:01\r\u001b[K     |██████████████████████▏         | 1.3 MB 5.2 MB/s eta 0:00:01\r\u001b[K     |██████████████████████▍         | 1.3 MB 5.2 MB/s eta 0:00:01\r\u001b[K     |██████████████████████▋         | 1.3 MB 5.2 MB/s eta 0:00:01\r\u001b[K     |██████████████████████▊         | 1.4 MB 5.2 MB/s eta 0:00:01\r\u001b[K     |███████████████████████         | 1.4 MB 5.2 MB/s eta 0:00:01\r\u001b[K     |███████████████████████         | 1.4 MB 5.2 MB/s eta 0:00:01\r\u001b[K     |███████████████████████▎        | 1.4 MB 5.2 MB/s eta 0:00:01\r\u001b[K     |███████████████████████▍        | 1.4 MB 5.2 MB/s eta 0:00:01\r\u001b[K     |███████████████████████▋        | 1.4 MB 5.2 MB/s eta 0:00:01\r\u001b[K     |███████████████████████▊        | 1.4 MB 5.2 MB/s eta 0:00:01\r\u001b[K     |████████████████████████        | 1.4 MB 5.2 MB/s eta 0:00:01\r\u001b[K     |████████████████████████▏       | 1.4 MB 5.2 MB/s eta 0:00:01\r\u001b[K     |████████████████████████▎       | 1.4 MB 5.2 MB/s eta 0:00:01\r\u001b[K     |████████████████████████▌       | 1.5 MB 5.2 MB/s eta 0:00:01\r\u001b[K     |████████████████████████▋       | 1.5 MB 5.2 MB/s eta 0:00:01\r\u001b[K     |████████████████████████▉       | 1.5 MB 5.2 MB/s eta 0:00:01\r\u001b[K     |█████████████████████████       | 1.5 MB 5.2 MB/s eta 0:00:01\r\u001b[K     |█████████████████████████▏      | 1.5 MB 5.2 MB/s eta 0:00:01\r\u001b[K     |█████████████████████████▎      | 1.5 MB 5.2 MB/s eta 0:00:01\r\u001b[K     |█████████████████████████▌      | 1.5 MB 5.2 MB/s eta 0:00:01\r\u001b[K     |█████████████████████████▋      | 1.5 MB 5.2 MB/s eta 0:00:01\r\u001b[K     |█████████████████████████▉      | 1.5 MB 5.2 MB/s eta 0:00:01\r\u001b[K     |██████████████████████████      | 1.5 MB 5.2 MB/s eta 0:00:01\r\u001b[K     |██████████████████████████▏     | 1.6 MB 5.2 MB/s eta 0:00:01\r\u001b[K     |██████████████████████████▍     | 1.6 MB 5.2 MB/s eta 0:00:01\r\u001b[K     |██████████████████████████▌     | 1.6 MB 5.2 MB/s eta 0:00:01\r\u001b[K     |██████████████████████████▊     | 1.6 MB 5.2 MB/s eta 0:00:01\r\u001b[K     |██████████████████████████▉     | 1.6 MB 5.2 MB/s eta 0:00:01\r\u001b[K     |███████████████████████████     | 1.6 MB 5.2 MB/s eta 0:00:01\r\u001b[K     |███████████████████████████▏    | 1.6 MB 5.2 MB/s eta 0:00:01\r\u001b[K     |███████████████████████████▍    | 1.6 MB 5.2 MB/s eta 0:00:01\r\u001b[K     |███████████████████████████▋    | 1.6 MB 5.2 MB/s eta 0:00:01\r\u001b[K     |███████████████████████████▊    | 1.6 MB 5.2 MB/s eta 0:00:01\r\u001b[K     |████████████████████████████    | 1.7 MB 5.2 MB/s eta 0:00:01\r\u001b[K     |████████████████████████████    | 1.7 MB 5.2 MB/s eta 0:00:01\r\u001b[K     |████████████████████████████▎   | 1.7 MB 5.2 MB/s eta 0:00:01\r\u001b[K     |████████████████████████████▍   | 1.7 MB 5.2 MB/s eta 0:00:01\r\u001b[K     |████████████████████████████▋   | 1.7 MB 5.2 MB/s eta 0:00:01\r\u001b[K     |████████████████████████████▊   | 1.7 MB 5.2 MB/s eta 0:00:01\r\u001b[K     |█████████████████████████████   | 1.7 MB 5.2 MB/s eta 0:00:01\r\u001b[K     |█████████████████████████████   | 1.7 MB 5.2 MB/s eta 0:00:01\r\u001b[K     |█████████████████████████████▎  | 1.7 MB 5.2 MB/s eta 0:00:01\r\u001b[K     |█████████████████████████████▌  | 1.8 MB 5.2 MB/s eta 0:00:01\r\u001b[K     |█████████████████████████████▋  | 1.8 MB 5.2 MB/s eta 0:00:01\r\u001b[K     |█████████████████████████████▉  | 1.8 MB 5.2 MB/s eta 0:00:01\r\u001b[K     |██████████████████████████████  | 1.8 MB 5.2 MB/s eta 0:00:01\r\u001b[K     |██████████████████████████████▏ | 1.8 MB 5.2 MB/s eta 0:00:01\r\u001b[K     |██████████████████████████████▎ | 1.8 MB 5.2 MB/s eta 0:00:01\r\u001b[K     |██████████████████████████████▌ | 1.8 MB 5.2 MB/s eta 0:00:01\r\u001b[K     |██████████████████████████████▋ | 1.8 MB 5.2 MB/s eta 0:00:01\r\u001b[K     |██████████████████████████████▉ | 1.8 MB 5.2 MB/s eta 0:00:01\r\u001b[K     |███████████████████████████████ | 1.8 MB 5.2 MB/s eta 0:00:01\r\u001b[K     |███████████████████████████████▏| 1.9 MB 5.2 MB/s eta 0:00:01\r\u001b[K     |███████████████████████████████▍| 1.9 MB 5.2 MB/s eta 0:00:01\r\u001b[K     |███████████████████████████████▌| 1.9 MB 5.2 MB/s eta 0:00:01\r\u001b[K     |███████████████████████████████▊| 1.9 MB 5.2 MB/s eta 0:00:01\r\u001b[K     |███████████████████████████████▉| 1.9 MB 5.2 MB/s eta 0:00:01\r\u001b[K     |████████████████████████████████| 1.9 MB 5.2 MB/s \n",
            "\u001b[?25h"
          ]
        }
      ]
    },
    {
      "cell_type": "code",
      "source": [
        "from IPython.display import YouTubeVideo\n",
        "\n",
        "# Change the Youtube_ID with the link to your group's video.\n",
        "YOUTUBE_ID = '0VQEJARHJ44'\n",
        "\n",
        "YouTubeVideo(YOUTUBE_ID)"
      ],
      "metadata": {
        "id": "m_W35wrQSdUt",
        "outputId": "bdb2a9a5-cfa7-4f54-e3ab-93571c7774e3",
        "colab": {
          "base_uri": "https://localhost:8080/",
          "height": 321
        }
      },
      "id": "m_W35wrQSdUt",
      "execution_count": 22,
      "outputs": [
        {
          "output_type": "execute_result",
          "data": {
            "text/plain": [
              "<IPython.lib.display.YouTubeVideo at 0x7f9930579d90>"
            ],
            "text/html": [
              "\n",
              "        <iframe\n",
              "            width=\"400\"\n",
              "            height=\"300\"\n",
              "            src=\"https://www.youtube.com/embed/0VQEJARHJ44\"\n",
              "            frameborder=\"0\"\n",
              "            allowfullscreen\n",
              "        ></iframe>\n",
              "        "
            ],
            "image/jpeg": "[encoded data removed]"
          },
          "metadata": {},
          "execution_count": 22
        }
      ]
    },
    {
      "cell_type": "code",
      "source": [
        "!rm -rf youtube.mp4\n",
        "# download the youtube with the given ID\n",
        "!youtube-dl -f 'bestvideo[ext=mp4]' --output \"youtube.%(ext)s\" https://www.youtube.com/watch?v=$YOUTUBE_ID"
      ],
      "metadata": {
        "id": "rtGDf2OhS2QI",
        "outputId": "ccf3914c-e70a-4fb8-c75e-6ee54d370781",
        "colab": {
          "base_uri": "https://localhost:8080/"
        }
      },
      "id": "rtGDf2OhS2QI",
      "execution_count": 23,
      "outputs": [
        {
          "output_type": "stream",
          "name": "stdout",
          "text": [
            "[youtube] 0VQEJARHJ44: Downloading webpage\n",
            "[download] Destination: youtube.mp4\n",
            "\u001b[K[download] 100% of 72.10MiB in 15:13\n"
          ]
        }
      ]
    },
    {
      "cell_type": "code",
      "execution_count": 38,
      "id": "b8bcc454",
      "metadata": {
        "id": "b8bcc454",
        "outputId": "6e87c7e3-83fa-41f0-88f8-78e93cdf8b63",
        "colab": {
          "base_uri": "https://localhost:8080/",
          "height": 647
        }
      },
      "outputs": [
        {
          "output_type": "stream",
          "name": "stderr",
          "text": [
            "ERROR:libav.mov,mp4,m4a,3gp,3g2,mj2:moov atom not found\n"
          ]
        },
        {
          "output_type": "error",
          "ename": "RuntimeError",
          "evalue": "ignored",
          "traceback": [
            "\u001b[0;31m---------------------------------------------------------------------------\u001b[0m",
            "\u001b[0;31mInvalidDataError\u001b[0m                          Traceback (most recent call last)",
            "\u001b[0;32m/usr/local/lib/python3.7/dist-packages/pytorchvideo/data/encoded_video_pyav.py\u001b[0m in \u001b[0;36m__init__\u001b[0;34m(self, file, video_name, decode_video, decode_audio, perform_seek)\u001b[0m\n\u001b[1;32m     48\u001b[0m         \u001b[0;32mtry\u001b[0m\u001b[0;34m:\u001b[0m\u001b[0;34m\u001b[0m\u001b[0;34m\u001b[0m\u001b[0m\n\u001b[0;32m---> 49\u001b[0;31m             \u001b[0mself\u001b[0m\u001b[0;34m.\u001b[0m\u001b[0m_container\u001b[0m \u001b[0;34m=\u001b[0m \u001b[0mav\u001b[0m\u001b[0;34m.\u001b[0m\u001b[0mopen\u001b[0m\u001b[0;34m(\u001b[0m\u001b[0mfile\u001b[0m\u001b[0;34m)\u001b[0m\u001b[0;34m\u001b[0m\u001b[0;34m\u001b[0m\u001b[0m\n\u001b[0m\u001b[1;32m     50\u001b[0m         \u001b[0;32mexcept\u001b[0m \u001b[0mException\u001b[0m \u001b[0;32mas\u001b[0m \u001b[0me\u001b[0m\u001b[0;34m:\u001b[0m\u001b[0;34m\u001b[0m\u001b[0;34m\u001b[0m\u001b[0m\n",
            "\u001b[0;32mav/container/core.pyx\u001b[0m in \u001b[0;36mav.container.core.open\u001b[0;34m()\u001b[0m\n",
            "\u001b[0;32mav/container/core.pyx\u001b[0m in \u001b[0;36mav.container.core.Container.__cinit__\u001b[0;34m()\u001b[0m\n",
            "\u001b[0;32mav/container/core.pyx\u001b[0m in \u001b[0;36mav.container.core.Container.err_check\u001b[0;34m()\u001b[0m\n",
            "\u001b[0;32mav/error.pyx\u001b[0m in \u001b[0;36mav.error.err_check\u001b[0;34m()\u001b[0m\n",
            "\u001b[0;31mInvalidDataError\u001b[0m: [Errno 1094995529] Invalid data found when processing input: '<none>'; last error log: [mov,mp4,m4a,3gp,3g2,mj2] moov atom not found",
            "\nDuring handling of the above exception, another exception occurred:\n",
            "\u001b[0;31mRuntimeError\u001b[0m                              Traceback (most recent call last)",
            "\u001b[0;32m<ipython-input-38-49dc5cc0808c>\u001b[0m in \u001b[0;36m<module>\u001b[0;34m()\u001b[0m\n\u001b[1;32m      1\u001b[0m \u001b[0;31m# Load the video\u001b[0m\u001b[0;34m\u001b[0m\u001b[0;34m\u001b[0m\u001b[0;34m\u001b[0m\u001b[0m\n\u001b[0;32m----> 2\u001b[0;31m \u001b[0mencoded_vid\u001b[0m \u001b[0;34m=\u001b[0m \u001b[0mpytorchvideo\u001b[0m\u001b[0;34m.\u001b[0m\u001b[0mdata\u001b[0m\u001b[0;34m.\u001b[0m\u001b[0mencoded_video\u001b[0m\u001b[0;34m.\u001b[0m\u001b[0mEncodedVideo\u001b[0m\u001b[0;34m.\u001b[0m\u001b[0mfrom_path\u001b[0m\u001b[0;34m(\u001b[0m\u001b[0;34m'/content/kitchen.mp4'\u001b[0m\u001b[0;34m)\u001b[0m\u001b[0;34m\u001b[0m\u001b[0;34m\u001b[0m\u001b[0m\n\u001b[0m\u001b[1;32m      3\u001b[0m \u001b[0mprint\u001b[0m\u001b[0;34m(\u001b[0m\u001b[0;34m'Completed loading encoded video.'\u001b[0m\u001b[0;34m)\u001b[0m\u001b[0;34m\u001b[0m\u001b[0;34m\u001b[0m\u001b[0m\n",
            "\u001b[0;32m/usr/local/lib/python3.7/dist-packages/pytorchvideo/data/encoded_video.py\u001b[0m in \u001b[0;36mfrom_path\u001b[0;34m(cls, file_path, decode_video, decode_audio, decoder, **other_args)\u001b[0m\n\u001b[1;32m     72\u001b[0m             \u001b[0mdecode_video\u001b[0m\u001b[0;34m=\u001b[0m\u001b[0mdecode_video\u001b[0m\u001b[0;34m,\u001b[0m\u001b[0;34m\u001b[0m\u001b[0;34m\u001b[0m\u001b[0m\n\u001b[1;32m     73\u001b[0m             \u001b[0mdecode_audio\u001b[0m\u001b[0;34m=\u001b[0m\u001b[0mdecode_audio\u001b[0m\u001b[0;34m,\u001b[0m\u001b[0;34m\u001b[0m\u001b[0;34m\u001b[0m\u001b[0m\n\u001b[0;32m---> 74\u001b[0;31m             \u001b[0;34m**\u001b[0m\u001b[0mother_args\u001b[0m\u001b[0;34m,\u001b[0m\u001b[0;34m\u001b[0m\u001b[0;34m\u001b[0m\u001b[0m\n\u001b[0m\u001b[1;32m     75\u001b[0m         )\n",
            "\u001b[0;32m/usr/local/lib/python3.7/dist-packages/pytorchvideo/data/encoded_video_pyav.py\u001b[0m in \u001b[0;36m__init__\u001b[0;34m(self, file, video_name, decode_video, decode_audio, perform_seek)\u001b[0m\n\u001b[1;32m     49\u001b[0m             \u001b[0mself\u001b[0m\u001b[0;34m.\u001b[0m\u001b[0m_container\u001b[0m \u001b[0;34m=\u001b[0m \u001b[0mav\u001b[0m\u001b[0;34m.\u001b[0m\u001b[0mopen\u001b[0m\u001b[0;34m(\u001b[0m\u001b[0mfile\u001b[0m\u001b[0;34m)\u001b[0m\u001b[0;34m\u001b[0m\u001b[0;34m\u001b[0m\u001b[0m\n\u001b[1;32m     50\u001b[0m         \u001b[0;32mexcept\u001b[0m \u001b[0mException\u001b[0m \u001b[0;32mas\u001b[0m \u001b[0me\u001b[0m\u001b[0;34m:\u001b[0m\u001b[0;34m\u001b[0m\u001b[0;34m\u001b[0m\u001b[0m\n\u001b[0;32m---> 51\u001b[0;31m             \u001b[0;32mraise\u001b[0m \u001b[0mRuntimeError\u001b[0m\u001b[0;34m(\u001b[0m\u001b[0;34mf\"Failed to open video {video_name}. {e}\"\u001b[0m\u001b[0;34m)\u001b[0m\u001b[0;34m\u001b[0m\u001b[0;34m\u001b[0m\u001b[0m\n\u001b[0m\u001b[1;32m     52\u001b[0m \u001b[0;34m\u001b[0m\u001b[0m\n\u001b[1;32m     53\u001b[0m         \u001b[0;32mif\u001b[0m \u001b[0mself\u001b[0m\u001b[0;34m.\u001b[0m\u001b[0m_container\u001b[0m \u001b[0;32mis\u001b[0m \u001b[0;32mNone\u001b[0m \u001b[0;32mor\u001b[0m \u001b[0mlen\u001b[0m\u001b[0;34m(\u001b[0m\u001b[0mself\u001b[0m\u001b[0;34m.\u001b[0m\u001b[0m_container\u001b[0m\u001b[0;34m.\u001b[0m\u001b[0mstreams\u001b[0m\u001b[0;34m.\u001b[0m\u001b[0mvideo\u001b[0m\u001b[0;34m)\u001b[0m \u001b[0;34m==\u001b[0m \u001b[0;36m0\u001b[0m\u001b[0;34m:\u001b[0m\u001b[0;34m\u001b[0m\u001b[0;34m\u001b[0m\u001b[0m\n",
            "\u001b[0;31mRuntimeError\u001b[0m: Failed to open video kitchen.mp4. [Errno 1094995529] Invalid data found when processing input: '<none>'; last error log: [mov,mp4,m4a,3gp,3g2,mj2] moov atom not found"
          ]
        }
      ],
      "source": [
        "# Load the video\n",
        "encoded_vid = pytorchvideo.data.encoded_video.EncodedVideo.from_path('/content/kitchen.mp4')\n",
        "print('Completed loading encoded video.')"
      ]
    },
    {
      "cell_type": "code",
      "execution_count": 37,
      "id": "500ebdfb",
      "metadata": {
        "id": "500ebdfb",
        "outputId": "6393b695-c986-4db8-cf93-d28869de28c3",
        "colab": {
          "base_uri": "https://localhost:8080/",
          "height": 249
        }
      },
      "outputs": [
        {
          "output_type": "stream",
          "name": "stdout",
          "text": [
            "Generating predictions for time stamp: 90 sec\n"
          ]
        },
        {
          "output_type": "error",
          "ename": "AttributeError",
          "evalue": "ignored",
          "traceback": [
            "\u001b[0;31m---------------------------------------------------------------------------\u001b[0m",
            "\u001b[0;31mAttributeError\u001b[0m                            Traceback (most recent call last)",
            "\u001b[0;32m<ipython-input-37-b6ef2b6a7de9>\u001b[0m in \u001b[0;36m<module>\u001b[0;34m()\u001b[0m\n\u001b[1;32m     16\u001b[0m     \u001b[0;31m# Generate people bbox predictions using Detectron2's off the self pre-trained predictor\u001b[0m\u001b[0;34m\u001b[0m\u001b[0;34m\u001b[0m\u001b[0;34m\u001b[0m\u001b[0m\n\u001b[1;32m     17\u001b[0m     \u001b[0;31m# We use the the middle image in each clip to generate the bounding boxes.\u001b[0m\u001b[0;34m\u001b[0m\u001b[0;34m\u001b[0m\u001b[0;34m\u001b[0m\u001b[0m\n\u001b[0;32m---> 18\u001b[0;31m     \u001b[0minp_img\u001b[0m \u001b[0;34m=\u001b[0m \u001b[0minp_imgs\u001b[0m\u001b[0;34m[\u001b[0m\u001b[0;34m:\u001b[0m\u001b[0;34m,\u001b[0m\u001b[0minp_imgs\u001b[0m\u001b[0;34m.\u001b[0m\u001b[0mshape\u001b[0m\u001b[0;34m[\u001b[0m\u001b[0;36m1\u001b[0m\u001b[0;34m]\u001b[0m\u001b[0;34m//\u001b[0m\u001b[0;36m2\u001b[0m\u001b[0;34m,\u001b[0m\u001b[0;34m:\u001b[0m\u001b[0;34m,\u001b[0m\u001b[0;34m:\u001b[0m\u001b[0;34m]\u001b[0m\u001b[0;34m\u001b[0m\u001b[0;34m\u001b[0m\u001b[0m\n\u001b[0m\u001b[1;32m     19\u001b[0m     \u001b[0minp_img\u001b[0m \u001b[0;34m=\u001b[0m \u001b[0minp_img\u001b[0m\u001b[0;34m.\u001b[0m\u001b[0mpermute\u001b[0m\u001b[0;34m(\u001b[0m\u001b[0;36m1\u001b[0m\u001b[0;34m,\u001b[0m\u001b[0;36m2\u001b[0m\u001b[0;34m,\u001b[0m\u001b[0;36m0\u001b[0m\u001b[0;34m)\u001b[0m\u001b[0;34m\u001b[0m\u001b[0;34m\u001b[0m\u001b[0m\n\u001b[1;32m     20\u001b[0m \u001b[0;34m\u001b[0m\u001b[0m\n",
            "\u001b[0;31mAttributeError\u001b[0m: 'NoneType' object has no attribute 'shape'"
          ]
        }
      ],
      "source": [
        "# Video predictions are generated at an internal of 1 sec from 90 seconds to 100 seconds in the video.\n",
        "time_stamp_range = range(90,100) # time stamps in video for which clip is sampled. \n",
        "clip_duration = 1.0 # Duration of clip used for each inference step.\n",
        "gif_imgs = []\n",
        "\n",
        "for time_stamp in time_stamp_range:    \n",
        "    print(\"Generating predictions for time stamp: {} sec\".format(time_stamp))\n",
        "    \n",
        "    # Generate clip around the designated time stamps\n",
        "    inp_imgs = encoded_vid.get_clip(\n",
        "        time_stamp - clip_duration/2.0, # start second\n",
        "        time_stamp + clip_duration/2.0  # end second\n",
        "    )\n",
        "    inp_imgs = inp_imgs['video']\n",
        "    \n",
        "    # Generate people bbox predictions using Detectron2's off the self pre-trained predictor\n",
        "    # We use the the middle image in each clip to generate the bounding boxes.\n",
        "    inp_img = inp_imgs[:,inp_imgs.shape[1]//2,:,:]\n",
        "    inp_img = inp_img.permute(1,2,0)\n",
        "    \n",
        "    # Predicted boxes are of the form List[(x_1, y_1, x_2, y_2)]\n",
        "    predicted_boxes = get_person_bboxes(inp_img, predictor) \n",
        "    if len(predicted_boxes) == 0: \n",
        "        print(\"Skipping clip no frames detected at time stamp: \", time_stamp)\n",
        "        continue\n",
        "        \n",
        "    # Preprocess clip and bounding boxes for video action recognition.\n",
        "    inputs, inp_boxes, _ = ava_inference_transform(inp_imgs, predicted_boxes.numpy())\n",
        "    # Prepend data sample id for each bounding box. \n",
        "    # For more details refere to the RoIAlign in Detectron2\n",
        "    inp_boxes = torch.cat([torch.zeros(inp_boxes.shape[0],1), inp_boxes], dim=1)\n",
        "    \n",
        "    # Generate actions predictions for the bounding boxes in the clip.\n",
        "    # The model here takes in the pre-processed video clip and the detected bounding boxes.\n",
        "    if isinstance(inputs, list):\n",
        "        inputs = [inp.unsqueeze(0).to(device) for inp in inputs]\n",
        "    else:\n",
        "        inputs = inputs.unsqueeze(0).to(device)\n",
        "    preds = video_model(inputs, inp_boxes.to(device))\n",
        "\n",
        "    preds= preds.to('cpu')\n",
        "    # The model is trained on AVA and AVA labels are 1 indexed so, prepend 0 to convert to 0 index.\n",
        "    preds = torch.cat([torch.zeros(preds.shape[0],1), preds], dim=1)\n",
        "    \n",
        "    # Plot predictions on the video and save for later visualization.\n",
        "    inp_imgs = inp_imgs.permute(1,2,3,0)\n",
        "    inp_imgs = inp_imgs/255.0\n",
        "    out_img_pred = video_visualizer.draw_clip_range(inp_imgs, preds, predicted_boxes)\n",
        "    gif_imgs += out_img_pred\n",
        "\n",
        "print(\"Finished generating predictions.\")"
      ]
    },
    {
      "cell_type": "code",
      "execution_count": 27,
      "id": "c4ae73fe",
      "metadata": {
        "id": "c4ae73fe",
        "outputId": "0d285b5f-58d3-455f-b243-504b1074ba7a",
        "colab": {
          "base_uri": "https://localhost:8080/"
        }
      },
      "outputs": [
        {
          "output_type": "stream",
          "name": "stdout",
          "text": [
            "Predictions are saved to the video file:  output_detections.mp4\n"
          ]
        }
      ],
      "source": [
        "height, width = gif_imgs[0].shape[0], gif_imgs[0].shape[1]\n",
        "\n",
        "vide_save_path = 'output_detections.mp4'\n",
        "video = cv2.VideoWriter(vide_save_path,cv2.VideoWriter_fourcc(*'DIVX'), 7, (width,height))\n",
        "\n",
        "for image in gif_imgs:\n",
        "    img = (255*image).astype(np.uint8)\n",
        "    img = cv2.cvtColor(img, cv2.COLOR_BGR2RGB)\n",
        "    video.write(img)\n",
        "video.release()\n",
        "\n",
        "print('Predictions are saved to the video file: ', vide_save_path)"
      ]
    },
    {
      "cell_type": "code",
      "execution_count": null,
      "id": "d0d1e754",
      "metadata": {
        "id": "d0d1e754"
      },
      "outputs": [],
      "source": [
        ""
      ]
    }
  ],
  "metadata": {
    "kernelspec": {
      "display_name": "Python 3",
      "language": "python",
      "name": "python3"
    },
    "language_info": {
      "codemirror_mode": {
        "name": "ipython",
        "version": 3
      },
      "file_extension": ".py",
      "mimetype": "text/x-python",
      "name": "python",
      "nbconvert_exporter": "python",
      "pygments_lexer": "ipython3",
      "version": "3.8.8"
    },
    "colab": {
      "name": "video_detection_inference_tutorial.ipynb",
      "provenance": [],
      "machine_shape": "hm",
      "background_execution": "on"
    },
    "accelerator": "GPU",
    "gpuClass": "standard",
    "widgets": {
      "application/vnd.jupyter.widget-state+json": {
        "887f04cd46ff4d64a89d201082f6df38": {
          "model_module": "@jupyter-widgets/controls",
          "model_name": "HBoxModel",
          "model_module_version": "1.5.0",
          "state": {
            "_dom_classes": [],
            "_model_module": "@jupyter-widgets/controls",
            "_model_module_version": "1.5.0",
            "_model_name": "HBoxModel",
            "_view_count": null,
            "_view_module": "@jupyter-widgets/controls",
            "_view_module_version": "1.5.0",
            "_view_name": "HBoxView",
            "box_style": "",
            "children": [
              "IPY_MODEL_cd70be8b527c4779bf07d1984b5551b1",
              "IPY_MODEL_c3593ccc313246639052ff0256029829",
              "IPY_MODEL_e3d63b03a1ae407cbfd7799280a05cc7"
            ],
            "layout": "IPY_MODEL_c109dfdceaf34764bec875fc628cac08"
          }
        },
        "cd70be8b527c4779bf07d1984b5551b1": {
          "model_module": "@jupyter-widgets/controls",
          "model_name": "HTMLModel",
          "model_module_version": "1.5.0",
          "state": {
            "_dom_classes": [],
            "_model_module": "@jupyter-widgets/controls",
            "_model_module_version": "1.5.0",
            "_model_name": "HTMLModel",
            "_view_count": null,
            "_view_module": "@jupyter-widgets/controls",
            "_view_module_version": "1.5.0",
            "_view_name": "HTMLView",
            "description": "",
            "description_tooltip": null,
            "layout": "IPY_MODEL_05a21909689d499ba0a3d8b05d1bf891",
            "placeholder": "​",
            "style": "IPY_MODEL_0bbe9e1304154ffc8776f6632ff193fd",
            "value": "100%"
          }
        },
        "c3593ccc313246639052ff0256029829": {
          "model_module": "@jupyter-widgets/controls",
          "model_name": "FloatProgressModel",
          "model_module_version": "1.5.0",
          "state": {
            "_dom_classes": [],
            "_model_module": "@jupyter-widgets/controls",
            "_model_module_version": "1.5.0",
            "_model_name": "FloatProgressModel",
            "_view_count": null,
            "_view_module": "@jupyter-widgets/controls",
            "_view_module_version": "1.5.0",
            "_view_name": "ProgressView",
            "bar_style": "success",
            "description": "",
            "description_tooltip": null,
            "layout": "IPY_MODEL_95a5ce4dee1949a690c6a94ebede9163",
            "max": 254776575,
            "min": 0,
            "orientation": "horizontal",
            "style": "IPY_MODEL_9fbf6384f63b48a5b60fc44bd2acc5b3",
            "value": 254776575
          }
        },
        "e3d63b03a1ae407cbfd7799280a05cc7": {
          "model_module": "@jupyter-widgets/controls",
          "model_name": "HTMLModel",
          "model_module_version": "1.5.0",
          "state": {
            "_dom_classes": [],
            "_model_module": "@jupyter-widgets/controls",
            "_model_module_version": "1.5.0",
            "_model_name": "HTMLModel",
            "_view_count": null,
            "_view_module": "@jupyter-widgets/controls",
            "_view_module_version": "1.5.0",
            "_view_name": "HTMLView",
            "description": "",
            "description_tooltip": null,
            "layout": "IPY_MODEL_bda37bb0e6aa4862973d7538ec46a6ff",
            "placeholder": "​",
            "style": "IPY_MODEL_ca971c16510f47da94b8f977946603bb",
            "value": " 243M/243M [00:08&lt;00:00, 50.1MB/s]"
          }
        },
        "c109dfdceaf34764bec875fc628cac08": {
          "model_module": "@jupyter-widgets/base",
          "model_name": "LayoutModel",
          "model_module_version": "1.2.0",
          "state": {
            "_model_module": "@jupyter-widgets/base",
            "_model_module_version": "1.2.0",
            "_model_name": "LayoutModel",
            "_view_count": null,
            "_view_module": "@jupyter-widgets/base",
            "_view_module_version": "1.2.0",
            "_view_name": "LayoutView",
            "align_content": null,
            "align_items": null,
            "align_self": null,
            "border": null,
            "bottom": null,
            "display": null,
            "flex": null,
            "flex_flow": null,
            "grid_area": null,
            "grid_auto_columns": null,
            "grid_auto_flow": null,
            "grid_auto_rows": null,
            "grid_column": null,
            "grid_gap": null,
            "grid_row": null,
            "grid_template_areas": null,
            "grid_template_columns": null,
            "grid_template_rows": null,
            "height": null,
            "justify_content": null,
            "justify_items": null,
            "left": null,
            "margin": null,
            "max_height": null,
            "max_width": null,
            "min_height": null,
            "min_width": null,
            "object_fit": null,
            "object_position": null,
            "order": null,
            "overflow": null,
            "overflow_x": null,
            "overflow_y": null,
            "padding": null,
            "right": null,
            "top": null,
            "visibility": null,
            "width": null
          }
        },
        "05a21909689d499ba0a3d8b05d1bf891": {
          "model_module": "@jupyter-widgets/base",
          "model_name": "LayoutModel",
          "model_module_version": "1.2.0",
          "state": {
            "_model_module": "@jupyter-widgets/base",
            "_model_module_version": "1.2.0",
            "_model_name": "LayoutModel",
            "_view_count": null,
            "_view_module": "@jupyter-widgets/base",
            "_view_module_version": "1.2.0",
            "_view_name": "LayoutView",
            "align_content": null,
            "align_items": null,
            "align_self": null,
            "border": null,
            "bottom": null,
            "display": null,
            "flex": null,
            "flex_flow": null,
            "grid_area": null,
            "grid_auto_columns": null,
            "grid_auto_flow": null,
            "grid_auto_rows": null,
            "grid_column": null,
            "grid_gap": null,
            "grid_row": null,
            "grid_template_areas": null,
            "grid_template_columns": null,
            "grid_template_rows": null,
            "height": null,
            "justify_content": null,
            "justify_items": null,
            "left": null,
            "margin": null,
            "max_height": null,
            "max_width": null,
            "min_height": null,
            "min_width": null,
            "object_fit": null,
            "object_position": null,
            "order": null,
            "overflow": null,
            "overflow_x": null,
            "overflow_y": null,
            "padding": null,
            "right": null,
            "top": null,
            "visibility": null,
            "width": null
          }
        },
        "0bbe9e1304154ffc8776f6632ff193fd": {
          "model_module": "@jupyter-widgets/controls",
          "model_name": "DescriptionStyleModel",
          "model_module_version": "1.5.0",
          "state": {
            "_model_module": "@jupyter-widgets/controls",
            "_model_module_version": "1.5.0",
            "_model_name": "DescriptionStyleModel",
            "_view_count": null,
            "_view_module": "@jupyter-widgets/base",
            "_view_module_version": "1.2.0",
            "_view_name": "StyleView",
            "description_width": ""
          }
        },
        "95a5ce4dee1949a690c6a94ebede9163": {
          "model_module": "@jupyter-widgets/base",
          "model_name": "LayoutModel",
          "model_module_version": "1.2.0",
          "state": {
            "_model_module": "@jupyter-widgets/base",
            "_model_module_version": "1.2.0",
            "_model_name": "LayoutModel",
            "_view_count": null,
            "_view_module": "@jupyter-widgets/base",
            "_view_module_version": "1.2.0",
            "_view_name": "LayoutView",
            "align_content": null,
            "align_items": null,
            "align_self": null,
            "border": null,
            "bottom": null,
            "display": null,
            "flex": null,
            "flex_flow": null,
            "grid_area": null,
            "grid_auto_columns": null,
            "grid_auto_flow": null,
            "grid_auto_rows": null,
            "grid_column": null,
            "grid_gap": null,
            "grid_row": null,
            "grid_template_areas": null,
            "grid_template_columns": null,
            "grid_template_rows": null,
            "height": null,
            "justify_content": null,
            "justify_items": null,
            "left": null,
            "margin": null,
            "max_height": null,
            "max_width": null,
            "min_height": null,
            "min_width": null,
            "object_fit": null,
            "object_position": null,
            "order": null,
            "overflow": null,
            "overflow_x": null,
            "overflow_y": null,
            "padding": null,
            "right": null,
            "top": null,
            "visibility": null,
            "width": null
          }
        },
        "9fbf6384f63b48a5b60fc44bd2acc5b3": {
          "model_module": "@jupyter-widgets/controls",
          "model_name": "ProgressStyleModel",
          "model_module_version": "1.5.0",
          "state": {
            "_model_module": "@jupyter-widgets/controls",
            "_model_module_version": "1.5.0",
            "_model_name": "ProgressStyleModel",
            "_view_count": null,
            "_view_module": "@jupyter-widgets/base",
            "_view_module_version": "1.2.0",
            "_view_name": "StyleView",
            "bar_color": null,
            "description_width": ""
          }
        },
        "bda37bb0e6aa4862973d7538ec46a6ff": {
          "model_module": "@jupyter-widgets/base",
          "model_name": "LayoutModel",
          "model_module_version": "1.2.0",
          "state": {
            "_model_module": "@jupyter-widgets/base",
            "_model_module_version": "1.2.0",
            "_model_name": "LayoutModel",
            "_view_count": null,
            "_view_module": "@jupyter-widgets/base",
            "_view_module_version": "1.2.0",
            "_view_name": "LayoutView",
            "align_content": null,
            "align_items": null,
            "align_self": null,
            "border": null,
            "bottom": null,
            "display": null,
            "flex": null,
            "flex_flow": null,
            "grid_area": null,
            "grid_auto_columns": null,
            "grid_auto_flow": null,
            "grid_auto_rows": null,
            "grid_column": null,
            "grid_gap": null,
            "grid_row": null,
            "grid_template_areas": null,
            "grid_template_columns": null,
            "grid_template_rows": null,
            "height": null,
            "justify_content": null,
            "justify_items": null,
            "left": null,
            "margin": null,
            "max_height": null,
            "max_width": null,
            "min_height": null,
            "min_width": null,
            "object_fit": null,
            "object_position": null,
            "order": null,
            "overflow": null,
            "overflow_x": null,
            "overflow_y": null,
            "padding": null,
            "right": null,
            "top": null,
            "visibility": null,
            "width": null
          }
        },
        "ca971c16510f47da94b8f977946603bb": {
          "model_module": "@jupyter-widgets/controls",
          "model_name": "DescriptionStyleModel",
          "model_module_version": "1.5.0",
          "state": {
            "_model_module": "@jupyter-widgets/controls",
            "_model_module_version": "1.5.0",
            "_model_name": "DescriptionStyleModel",
            "_view_count": null,
            "_view_module": "@jupyter-widgets/base",
            "_view_module_version": "1.2.0",
            "_view_name": "StyleView",
            "description_width": ""
          }
        }
      }
    }
  },
  "nbformat": 4,
  "nbformat_minor": 5
}